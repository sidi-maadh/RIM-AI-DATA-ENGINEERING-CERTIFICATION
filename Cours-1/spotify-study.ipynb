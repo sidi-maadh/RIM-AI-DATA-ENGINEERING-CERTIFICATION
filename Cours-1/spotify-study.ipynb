{
 "cells": [
  {
   "cell_type": "markdown",
   "metadata": {},
   "source": [
    "## In order to create a spotify go to https://developer.spotify.com/documentation/web-api/tutorials/getting-started"
   ]
  },
  {
   "cell_type": "markdown",
   "metadata": {},
   "source": [
    "## 1. INSTALL DEPENDANCIES\n",
    "  "
   ]
  },
  {
   "cell_type": "code",
   "execution_count": null,
   "metadata": {},
   "outputs": [],
   "source": [
    "!pip install -r requirements.txt"
   ]
  },
  {
   "cell_type": "markdown",
   "metadata": {},
   "source": [
    "## 2 Import packages and set up pandas options"
   ]
  },
  {
   "cell_type": "code",
   "execution_count": null,
   "metadata": {},
   "outputs": [],
   "source": [
    "import os\n",
    "import requests\n",
    "import json\n",
    "import pandas as pd\n",
    "from dotenv import load_dotenv\n",
    "\n",
    "pd.set_option('display.max_columns', None)      # Show all columns\n",
    "pd.set_option('display.expand_frame_repr', False)  # Don't wrap to a new line\n",
    "pd.set_option('display.max_colwidth', 150)"
   ]
  },
  {
   "cell_type": "markdown",
   "metadata": {},
   "source": [
    "## 3 LOAD ENVIRONMENT VARIABLES INTO YOUR PYTHON CODE\n",
    "\n",
    "    !important: do not forget to create a \".env\" file as a copy of example.env and add your own \n",
    "    SPOTIFY SPOTIFY_CLIENT_ID;SPOTIFY_CLIENT_SECRET"
   ]
  },
  {
   "cell_type": "code",
   "execution_count": null,
   "metadata": {},
   "outputs": [],
   "source": [
    "# load environment variables\n",
    "\n",
    "load_dotenv(override=True)\n",
    "SPOTIFY_OAUTH_ENDPOINT=os.getenv('SPOTIFY_OAUTH_ENDPOINT')\n",
    "SPOTIFY_API_ENDPOINT = os.getenv('SPOTIFY_API_ENDPOINT')\n",
    "SPOTIFY_CLIENT_ID = os.getenv('SPOTIFY_CLIENT_ID')\n",
    "SPOTIFY_CLIENT_SECRET = os.getenv('SPOTIFY_CLIENT_SECRET')\n",
    "\n"
   ]
  },
  {
   "cell_type": "markdown",
   "metadata": {},
   "source": [
    "## 4- GET ACCESS TOKEN FROM SPOTIFY\n",
    "in order to connect to spotify api you need to obtain an access token by calling this function"
   ]
  },
  {
   "cell_type": "code",
   "execution_count": null,
   "metadata": {},
   "outputs": [],
   "source": [
    "def get_token(endpoint, clientId, clientSecret):\n",
    "    '''\n",
    "        returns spotify access_token\n",
    "    '''\n",
    "    grant_type = 'client_credentials'\n",
    "    # parameters of the API call\n",
    "    body_params = {\n",
    "        'client_id': clientId,\n",
    "        'client_secret': clientSecret,\n",
    "        'grant_type' : grant_type\n",
    "        }\n",
    "\n",
    "    url=f'{endpoint}/api/token' # formating the full endpoint\n",
    "    try:\n",
    "        response = requests.post(url, data=body_params) # making request to spotify to get a token\n",
    "        token_raw = json.loads(response.text)\n",
    "        token = token_raw[\"access_token\"] # extracting access_token from api result\n",
    "        return token\n",
    "    except Exception as ex :\n",
    "        print(f\"Got an authentification error {ex}\")"
   ]
  },
  {
   "cell_type": "code",
   "execution_count": null,
   "metadata": {},
   "outputs": [],
   "source": [
    "\n",
    "def find_tracks_by_artiste(artist):\n",
    "\n",
    "    # Get access token\n",
    "    access_token = get_token(SPOTIFY_OAUTH_ENDPOINT, SPOTIFY_CLIENT_ID, SPOTIFY_CLIENT_SECRET)\n",
    "\n",
    "    # API CALL\n",
    "    search_response = requests.get(\n",
    "        url = f'{SPOTIFY_API_ENDPOINT}/v1/search',\n",
    "        headers={\n",
    "            'Authorization': f'Bearer {access_token}'\n",
    "        },\n",
    "        params={\n",
    "            'q': f'artist:{artist}',\n",
    "            'type': 'track',\n",
    "            'market': 'MR',\n",
    "        }\n",
    "    )\n",
    "    # Parse result\n",
    "    tracks = search_response.json().get('tracks', {}).get('items', [])\n",
    "    return tracks\n",
    "\n",
    "def miliseconds_to_minutes(millis):\n",
    "    '''\n",
    "        a helper function to convert miliseconds to minutes and seconds\n",
    "    '''\n",
    "    millis = int(millis)\n",
    "    seconds=(millis/1000)%60\n",
    "    seconds = int(seconds)\n",
    "    minutes=(millis/(1000*60))%60\n",
    "    minutes = int(minutes)\n",
    "    return  f\"{minutes} m {seconds} s\"\n",
    "\n",
    "\n",
    "def get_most_popular_songs(tracks):\n",
    "    '''\n",
    "        Get top 10 popular songs from a tracks list\n",
    "    '''\n",
    "\n",
    "    songs = []\n",
    "    for  track in tracks:\n",
    "        artists = ', '.join(artist['name'] for artist in track.get('artists', []))\n",
    "        spotify_url = track.get('external_urls', {}).get('spotify')\n",
    "        full_name = f\"{track.get('name')} by {artists}\"\n",
    "        \n",
    "        extracted_data = {\n",
    "            \"popularity\": track.get('popularity'),\n",
    "            \"spotify_url\": str(spotify_url),\n",
    "            \"full_name\": full_name,\n",
    "            \"release_date\": track.get('album', {}).get('release_date'),\n",
    "            \"duration_m\": miliseconds_to_minutes(track.get('duration_ms'))\n",
    "\n",
    "            }\n",
    "        songs.append(extracted_data)\n",
    "\n",
    "    songs_df = pd.DataFrame(songs)\n",
    "    songs_df = songs_df.sort_values(by='popularity', ascending=False)\n",
    "    return songs_df.head(10)"
   ]
  },
  {
   "cell_type": "code",
   "execution_count": null,
   "metadata": {},
   "outputs": [],
   "source": [
    "import matplotlib.pyplot as plt\n",
    "\n",
    "\n",
    "def display_songs_chart(songs_df):\n",
    "    '''\n",
    "        Display a bar chart of the top 10 More popular songs\n",
    "        \n",
    "    '''\n",
    "    fig, ax = plt.subplots()\n",
    "    fig.autofmt_xdate(rotation=45)\n",
    "    colors = ['#1f77b4', '#ff7f0e', '#2ca02c', '#d62728', '#9467bd',\n",
    "            '#8c564b', '#e377c2', '#7f7f7f', '#bcbd22', '#17becf']\n",
    "\n",
    "    songs_df = songs_df.head(10)\n",
    "    ax.bar(songs_df[\"full_name\"], songs_df[\"popularity\"], color=colors)\n",
    "\n",
    "    ax.set_ylabel('popularity %')\n",
    "    ax.set_title('Song Bame')\n",
    "    ax.legend(title='Spotify Songs analysis')\n",
    "\n",
    "    plt.show()\n"
   ]
  },
  {
   "cell_type": "code",
   "execution_count": null,
   "metadata": {},
   "outputs": [],
   "source": [
    "def save_data_to_json_fil(filename, data):\n",
    "    with open (filename, 'w') as f:\n",
    "        f.write(json.dumps(data))"
   ]
  },
  {
   "cell_type": "code",
   "execution_count": null,
   "metadata": {},
   "outputs": [],
   "source": [
    "\n",
    "artist = \"Dj Dhaker\"\n",
    "songs = find_tracks_by_artiste(artist)\n",
    "save_data_to_json_fil('dj_dhaker.json', songs)\n",
    "\n",
    "\n",
    "# get most popular songs \n",
    "\n",
    "result = get_most_popular_songs(songs)\n",
    "display_songs_chart(result)\n",
    "print(result)"
   ]
  },
  {
   "cell_type": "markdown",
   "metadata": {},
   "source": [
    "## Congrats you now know how to get data from an API and analyse it :-)"
   ]
  },
  {
   "cell_type": "markdown",
   "metadata": {},
   "source": []
  }
 ],
 "metadata": {
  "kernelspec": {
   "display_name": ".venv",
   "language": "python",
   "name": "python3"
  },
  "language_info": {
   "codemirror_mode": {
    "name": "ipython",
    "version": 3
   },
   "file_extension": ".py",
   "mimetype": "text/x-python",
   "name": "python",
   "nbconvert_exporter": "python",
   "pygments_lexer": "ipython3",
   "version": "3.13.2"
  }
 },
 "nbformat": 4,
 "nbformat_minor": 2
}
